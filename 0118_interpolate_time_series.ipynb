{
 "cells": [
  {
   "cell_type": "code",
   "execution_count": 1,
   "metadata": {},
   "outputs": [],
   "source": [
    "import pandas as pd"
   ]
  },
  {
   "cell_type": "code",
   "execution_count": 11,
   "metadata": {},
   "outputs": [],
   "source": [
    "import matplotlib.pyplot as plt\n",
    "plt.rcParams['font.sans-serif']=['SimHei'] #用来正常显示中文标签\n",
    "plt.rcParams['axes.unicode_minus']=False #用来正常显示负号"
   ]
  },
  {
   "cell_type": "code",
   "execution_count": 2,
   "metadata": {},
   "outputs": [
    {
     "data": {
      "text/plain": [
       "(3629, 30)"
      ]
     },
     "execution_count": 2,
     "metadata": {},
     "output_type": "execute_result"
    }
   ],
   "source": [
    "path = './data/data_with_time_series.xlsx'\n",
    "df = pd.read_excel(path)\n",
    "df.shape"
   ]
  },
  {
   "cell_type": "code",
   "execution_count": 5,
   "metadata": {},
   "outputs": [],
   "source": [
    "df.drop(['ART2DIA','BIS','ART2SYS','ART2MEAN','CVP','T2','ARTMEAN','RR','ARTDIA','ARTSYS','EtCO2','T1','NBPMEAN','HR'],inplace=True,axis=1)"
   ]
  },
  {
   "cell_type": "code",
   "execution_count": 6,
   "metadata": {},
   "outputs": [
    {
     "data": {
      "text/plain": [
       "(3629, 16)"
      ]
     },
     "execution_count": 6,
     "metadata": {},
     "output_type": "execute_result"
    }
   ],
   "source": [
    "df.shape"
   ]
  },
  {
   "cell_type": "code",
   "execution_count": 10,
   "metadata": {},
   "outputs": [
    {
     "data": {
      "text/plain": [
       "(3583, 16)"
      ]
     },
     "execution_count": 10,
     "metadata": {},
     "output_type": "execute_result"
    }
   ],
   "source": [
    "df_clear = df.drop(df[(df['NBPDIA'] == '0') & (df['NBPSYS'] == '0') & (df['PR'] == '0') & (df['SPO2'] == '0')].index)\n",
    "df_clear.shape"
   ]
  },
  {
   "cell_type": "code",
   "execution_count": 77,
   "metadata": {},
   "outputs": [
    {
     "name": "stdout",
     "output_type": "stream",
     "text": [
      "61 61 67 67 67 67 67 67 67 67 67 67 67 67 76 76 76 76 76 76 76 76 57 57 57 57 57 57 57 57 57 59 59 59 59 59 59 59 59 59 59 59 59 70 70 70 70 70 70 70 70 70 70 70 -100 -100 61 61 62 62 62 62 62 62 65 65 -102 -102 -102 -102 61 61 61 61 61 70 70 70 70 70 70 60 60 60 60 60 60 48 48 48 48 48 48 63 63 63 -102 -102 -102 63 67 67 67 67 67 -102 -102 67 -102 68 68 68 68 68 73 73 73 73 73 73 61 61 61 61 61 61 64 64 64 64 64 64 64 65 65 65 65 67 67 67 67 67 67 67 67 67 67 67 67 67 67 67 67 67 67 67 62 62 62 62 62 62 61 61 61 61 61 61 65 65 65 65 61 61 61 61 61 61 -102 -102 66 -102 -102 -102 -102 -102 -102 66\n",
      "----------\n",
      "110 110 116 116 116 116 116 116 116 116 116 116 116 116 130 130 130 130 130 130 130 130 102 102 102 102 102 102 102 102 102 103 103 103 103 103 103 103 103 103 103 103 103 107 107 107 107 107 107 107 107 107 107 107 -100 -100 116 116 116 116 116 116 116 116 110 110 -102 -102 -102 -102 111 111 111 111 111 119 119 119 119 119 119 120 120 120 120 120 120 92 92 92 92 92 92 110 110 110 -102 -102 -102 110 119 119 119 119 119 -102 -102 119 -102 126 126 126 126 126 124 124 124 124 124 124 114 114 114 114 114 114 107 107 107 107 107 107 107 113 113 113 113 116 116 116 116 116 116 116 116 116 116 116 116 116 114 114 114 114 114 114 114 114 114 114 114 114 112 112 112 112 112 112 110 110 110 110 108 108 108 108 108 108 -102 -102 102 -102 -102 -102 -102 -102 -102 102\n",
      "----------\n",
      "98 -100 98 98 99 99 99 99 97 98 97 97 99 99 98 99 98 98 98 97 98 98 97 98 98 97 98 99 98 98 98 98 98 97 97 97 98 99 99 98 97 98 99 99 97 98 98 98 98 98 99 99 99 99 99 100 100 100 100 100 100 100 100 100 100 100 -102 -102 -102 -102 100 100 100 100 100 100 100 100 100 100 100 100 100 100 100 100 100 100 100 100 100 100 100 100 100 100 -102 -102 -102 100 100 100 100 100 100 -102 -102 99 -102 99 99 98 98 98 98 97 98 97 97 98 97 97 97 97 98 99 98 99 98 98 97 98 98 98 96 98 97 96 96 96 96 96 97 96 97 96 97 97 96 96 97 97 96 96 96 95 97 96 96 96 97 96 97 96 96 96 96 96 96 96 96 97 98 97 97 97 97 97 -102 -102 98\n",
      "----------\n",
      "96 -100 89 90 98 89 90 92 86 87 94 90 98 106 91 95 93 92 94 105 104 92 96 93 103 95 98 101 95 86 92 97 109 94 96 98 98 102 99 91 95 100 92 98 89 93 91 107 98 99 102 96 96 102 99 105 100 105 103 107 110 102 98 95 97 96 -102 -102 -102 -102 97 99 98 102 96 97 94 92 95 107 96 96 101 105 105 98 122 116 107 106 102 96 96 105 107 97 -102 -102 -102 107 108 116 112 111 107 -102 -102 109 -102 109 106 108 112 108 110 113 111 115 114 119 113 119 118 118 117 118 116 117 121 116 116 114 119 118 116 118 120 117 122 114 117 118 113 119 109 112 111 111 115 109 117 113 112 111 106 107 115 107 113 111 116 111 111 108 107 110 109 104 106 110 106 101 98 100 98 98 104 98 -102 -102 90\n"
     ]
    }
   ],
   "source": [
    "df_spec = df[df['病区'] == '妇产科病区'].reset_index(drop=True)\n",
    "# df_spec.head(3)\n",
    "row = 4\n",
    "data = df_spec.loc[row,'NBPDIA']\n",
    "print(data)\n",
    "print('----------')\n",
    "data1 = df_spec.loc[row,'NBPSYS']\n",
    "print(data1)\n",
    "print('----------')\n",
    "data2 = df_spec.loc[row,'SPO2']\n",
    "print(data2)\n",
    "print('----------')\n",
    "data3 = df_spec.loc[row,'PR']\n",
    "print(data3)"
   ]
  },
  {
   "cell_type": "code",
   "execution_count": 93,
   "metadata": {},
   "outputs": [],
   "source": [
    "def plot(data):\n",
    "    with plt.style.context(['science','notebook']):\n",
    "        plt.figure(figsize=(14,3))\n",
    "        plt.plot(data,marker='o')\n",
    "        plt.show()\n",
    "\n",
    "# 将字符串序列变为数字序列\n",
    "def toNumberList(s):\n",
    "    return [float(c) for c in s.split(' ')]\n",
    "\n",
    "# 通过移动平均法进行插值\n",
    "def interpolation(s):\n",
    "    arr = toNumberList(s)\n",
    "    length = len(arr)\n",
    "    ans = []\n",
    "    for idx,val in enumerate(arr):\n",
    "        if val > 0:\n",
    "            ans.append(str(val))\n",
    "        else:\n",
    "            l = idx\n",
    "            r = idx\n",
    "            left = 0\n",
    "            right = 0\n",
    "            while l >= 0:\n",
    "                if arr[l] > 0:\n",
    "                    left = arr[l]\n",
    "                    break\n",
    "                else:\n",
    "                    l -= 1\n",
    "            while r < length:\n",
    "                if arr[r] > 0:\n",
    "                    right = arr[r]\n",
    "                    break\n",
    "                else:\n",
    "                    r += 1\n",
    "            ans.append(str(round((left + right) / 2,1)))\n",
    "    return ' '.join(ans)"
   ]
  },
  {
   "cell_type": "code",
   "execution_count": 78,
   "metadata": {},
   "outputs": [
    {
     "data": {
      "image/png": "[encoded data removed]",
      "text/plain": [
       "<Figure size 1008x216 with 1 Axes>"
      ]
     },
     "metadata": {
      "needs_background": "light"
     },
     "output_type": "display_data"
    }
   ],
   "source": [
    "plot(toNumberList(data2))"
   ]
  },
  {
   "cell_type": "code",
   "execution_count": 94,
   "metadata": {},
   "outputs": [
    {
     "name": "stdout",
     "output_type": "stream",
     "text": [
      "110 110 116 116 116 116 116 116 116 116 116 116 116 116 130 130 130 130 130 130 130 130 102 102 102 102 102 102 102 102 102 103 103 103 103 103 103 103 103 103 103 103 103 107 107 107 107 107 107 107 107 107 107 107 -100 -100 116 116 116 116 116 116 116 116 110 110 -102 -102 -102 -102 111 111 111 111 111 119 119 119 119 119 119 120 120 120 120 120 120 92 92 92 92 92 92 110 110 110 -102 -102 -102 110 119 119 119 119 119 -102 -102 119 -102 126 126 126 126 126 124 124 124 124 124 124 114 114 114 114 114 114 107 107 107 107 107 107 107 113 113 113 113 116 116 116 116 116 116 116 116 116 116 116 116 116 114 114 114 114 114 114 114 114 114 114 114 114 112 112 112 112 112 112 110 110 110 110 108 108 108 108 108 108 -102 -102 102 -102 -102 -102 -102 -102 -102 102\n",
      "-------\n",
      "110.0 110.0 116.0 116.0 116.0 116.0 116.0 116.0 116.0 116.0 116.0 116.0 116.0 116.0 130.0 130.0 130.0 130.0 130.0 130.0 130.0 130.0 102.0 102.0 102.0 102.0 102.0 102.0 102.0 102.0 102.0 103.0 103.0 103.0 103.0 103.0 103.0 103.0 103.0 103.0 103.0 103.0 103.0 107.0 107.0 107.0 107.0 107.0 107.0 107.0 107.0 107.0 107.0 107.0 111.5 111.5 116.0 116.0 116.0 116.0 116.0 116.0 116.0 116.0 110.0 110.0 110.5 110.5 110.5 110.5 111.0 111.0 111.0 111.0 111.0 119.0 119.0 119.0 119.0 119.0 119.0 120.0 120.0 120.0 120.0 120.0 120.0 92.0 92.0 92.0 92.0 92.0 92.0 110.0 110.0 110.0 110.0 110.0 110.0 110.0 119.0 119.0 119.0 119.0 119.0 119.0 119.0 119.0 122.5 126.0 126.0 126.0 126.0 126.0 124.0 124.0 124.0 124.0 124.0 124.0 114.0 114.0 114.0 114.0 114.0 114.0 107.0 107.0 107.0 107.0 107.0 107.0 107.0 113.0 113.0 113.0 113.0 116.0 116.0 116.0 116.0 116.0 116.0 116.0 116.0 116.0 116.0 116.0 116.0 116.0 114.0 114.0 114.0 114.0 114.0 114.0 114.0 114.0 114.0 114.0 114.0 114.0 112.0 112.0 112.0 112.0 112.0 112.0 110.0 110.0 110.0 110.0 108.0 108.0 108.0 108.0 108.0 108.0 105.0 105.0 102.0 102.0 102.0 102.0 102.0 102.0 102.0 102.0\n"
     ]
    }
   ],
   "source": [
    "print(data1)\n",
    "print('-------')\n",
    "print(interpolation(data1))"
   ]
  },
  {
   "cell_type": "code",
   "execution_count": 95,
   "metadata": {},
   "outputs": [],
   "source": [
    "df_clear['NBPDIA_inter'] = df_clear['NBPDIA'].apply(interpolation)"
   ]
  },
  {
   "cell_type": "code",
   "execution_count": 96,
   "metadata": {},
   "outputs": [],
   "source": [
    "df_clear['NBPSYS_inter'] = df_clear['NBPSYS'].apply(interpolation)"
   ]
  },
  {
   "cell_type": "code",
   "execution_count": 97,
   "metadata": {},
   "outputs": [],
   "source": [
    "df_clear['SPO2_inter'] = df_clear['SPO2'].apply(interpolation)"
   ]
  },
  {
   "cell_type": "code",
   "execution_count": 98,
   "metadata": {},
   "outputs": [],
   "source": [
    "df_clear['PR_inter'] = df_clear['PR'].apply(interpolation)"
   ]
  },
  {
   "cell_type": "code",
   "execution_count": 99,
   "metadata": {},
   "outputs": [
    {
     "data": {
      "text/html": [
       "<div>\n",
       "<style scoped>\n",
       "    .dataframe tbody tr th:only-of-type {\n",
       "        vertical-align: middle;\n",
       "    }\n",
       "\n",
       "    .dataframe tbody tr th {\n",
       "        vertical-align: top;\n",
       "    }\n",
       "\n",
       "    .dataframe thead th {\n",
       "        text-align: right;\n",
       "    }\n",
       "</style>\n",
       "<table border=\"1\" class=\"dataframe\">\n",
       "  <thead>\n",
       "    <tr style=\"text-align: right;\">\n",
       "      <th></th>\n",
       "      <th>手术ID</th>\n",
       "      <th>姓名</th>\n",
       "      <th>性别</th>\n",
       "      <th>年龄</th>\n",
       "      <th>体重</th>\n",
       "      <th>身高</th>\n",
       "      <th>病区</th>\n",
       "      <th>实施手术</th>\n",
       "      <th>实施手术_分词</th>\n",
       "      <th>术前诊断</th>\n",
       "      <th>术前诊断_分词</th>\n",
       "      <th>监测ID</th>\n",
       "      <th>NBPDIA</th>\n",
       "      <th>NBPSYS</th>\n",
       "      <th>PR</th>\n",
       "      <th>SPO2</th>\n",
       "      <th>NBPDIA_inter</th>\n",
       "      <th>NBPSYS_inter</th>\n",
       "      <th>SPO2_inter</th>\n",
       "      <th>PR_inter</th>\n",
       "    </tr>\n",
       "  </thead>\n",
       "  <tbody>\n",
       "    <tr>\n",
       "      <th>0</th>\n",
       "      <td>408485</td>\n",
       "      <td>邓煊雅</td>\n",
       "      <td>女</td>\n",
       "      <td>36</td>\n",
       "      <td>66.0</td>\n",
       "      <td>162.0</td>\n",
       "      <td>妇产科病区</td>\n",
       "      <td>二次剖宫产术</td>\n",
       "      <td>二次|剖宫产术</td>\n",
       "      <td>1.妊娠38+2周孕6产1晚孕、 2.瘢痕子宫、 3.右侧附件囊肿；</td>\n",
       "      <td>妊娠|周孕|产|晚孕|瘢痕|子宫|右侧|附件|囊肿</td>\n",
       "      <td>252525</td>\n",
       "      <td>71 -100 -100 -100 -100 -100 73 73 73 73 73 73 ...</td>\n",
       "      <td>121 -100 -100 -100 -100 -100 123 123 123 123 1...</td>\n",
       "      <td>87 -100 -100 -100 -100 -100 -100 -100 -100 90 ...</td>\n",
       "      <td>99 -100 -100 -100 -100 -100 -100 -100 -100 99 ...</td>\n",
       "      <td>71.0 72.0 72.0 72.0 72.0 72.0 73.0 73.0 73.0 7...</td>\n",
       "      <td>121.0 122.0 122.0 122.0 122.0 122.0 123.0 123....</td>\n",
       "      <td>99.0 99.0 99.0 99.0 99.0 99.0 99.0 99.0 99.0 9...</td>\n",
       "      <td>87.0 88.5 88.5 88.5 88.5 88.5 88.5 88.5 88.5 9...</td>\n",
       "    </tr>\n",
       "    <tr>\n",
       "      <th>1</th>\n",
       "      <td>408486</td>\n",
       "      <td>刘书</td>\n",
       "      <td>女</td>\n",
       "      <td>51</td>\n",
       "      <td>58.0</td>\n",
       "      <td>160.0</td>\n",
       "      <td>心血管病区</td>\n",
       "      <td>房颤消融改良迷宫术+人工二尖瓣置换术</td>\n",
       "      <td>房颤|消融|改良|迷宫术|人工|二尖瓣|置换术</td>\n",
       "      <td>风心病</td>\n",
       "      <td>风心病</td>\n",
       "      <td>252556</td>\n",
       "      <td>79 -102 -102 -102 -102 -102 -102 -102 -102 -10...</td>\n",
       "      <td>108 -102 -102 -102 -102 -102 -102 -102 -102 -1...</td>\n",
       "      <td>165 -102 -102 -102 -102 -102 -102 -102 -102 -1...</td>\n",
       "      <td>98 -102 -102 -102 -102 -102 -102 -102 -102 -10...</td>\n",
       "      <td>79.0 77.5 77.5 77.5 77.5 77.5 77.5 77.5 77.5 7...</td>\n",
       "      <td>108.0 105.5 105.5 105.5 105.5 105.5 105.5 105....</td>\n",
       "      <td>98.0 98.0 98.0 98.0 98.0 98.0 98.0 98.0 98.0 9...</td>\n",
       "      <td>165.0 159.0 159.0 159.0 159.0 159.0 159.0 159....</td>\n",
       "    </tr>\n",
       "    <tr>\n",
       "      <th>2</th>\n",
       "      <td>408487</td>\n",
       "      <td>杨仁秀</td>\n",
       "      <td>女</td>\n",
       "      <td>66</td>\n",
       "      <td>47.0</td>\n",
       "      <td>144.5</td>\n",
       "      <td>心血管病区</td>\n",
       "      <td>再次二尖瓣置换术</td>\n",
       "      <td>二尖瓣|置换术</td>\n",
       "      <td>心脏瓣膜置换术后 瓣膜功能障碍</td>\n",
       "      <td>心脏|瓣膜|置换术|后|瓣膜|功能障碍</td>\n",
       "      <td>252599</td>\n",
       "      <td>80 64 64 64 64 64 64 64 -102 -102 76 76 76 76 ...</td>\n",
       "      <td>112 111 111 111 111 111 111 111 -102 -102 106 ...</td>\n",
       "      <td>76 79 78 79 79 80 81 82 -102 -102 79 80 81 79 ...</td>\n",
       "      <td>98 99 99 99 100 100 100 100 -102 -102 100 100 ...</td>\n",
       "      <td>80.0 64.0 64.0 64.0 64.0 64.0 64.0 64.0 70.0 7...</td>\n",
       "      <td>112.0 111.0 111.0 111.0 111.0 111.0 111.0 111....</td>\n",
       "      <td>98.0 99.0 99.0 99.0 100.0 100.0 100.0 100.0 10...</td>\n",
       "      <td>76.0 79.0 78.0 79.0 79.0 80.0 81.0 82.0 80.5 8...</td>\n",
       "    </tr>\n",
       "  </tbody>\n",
       "</table>\n",
       "</div>"
      ],
      "text/plain": [
       "     手术ID   姓名 性别  年龄    体重     身高     病区                实施手术  \\\n",
       "0  408485  邓煊雅  女  36  66.0  162.0  妇产科病区              二次剖宫产术   \n",
       "1  408486   刘书  女  51  58.0  160.0  心血管病区  房颤消融改良迷宫术+人工二尖瓣置换术   \n",
       "2  408487  杨仁秀  女  66  47.0  144.5  心血管病区            再次二尖瓣置换术   \n",
       "\n",
       "                   实施手术_分词                                 术前诊断  \\\n",
       "0                  二次|剖宫产术  1.妊娠38+2周孕6产1晚孕、 2.瘢痕子宫、 3.右侧附件囊肿；    \n",
       "1  房颤|消融|改良|迷宫术|人工|二尖瓣|置换术                                  风心病   \n",
       "2                  二尖瓣|置换术                      心脏瓣膜置换术后 瓣膜功能障碍   \n",
       "\n",
       "                     术前诊断_分词    监测ID  \\\n",
       "0  妊娠|周孕|产|晚孕|瘢痕|子宫|右侧|附件|囊肿  252525   \n",
       "1                        风心病  252556   \n",
       "2        心脏|瓣膜|置换术|后|瓣膜|功能障碍  252599   \n",
       "\n",
       "                                              NBPDIA  \\\n",
       "0  71 -100 -100 -100 -100 -100 73 73 73 73 73 73 ...   \n",
       "1  79 -102 -102 -102 -102 -102 -102 -102 -102 -10...   \n",
       "2  80 64 64 64 64 64 64 64 -102 -102 76 76 76 76 ...   \n",
       "\n",
       "                                              NBPSYS  \\\n",
       "0  121 -100 -100 -100 -100 -100 123 123 123 123 1...   \n",
       "1  108 -102 -102 -102 -102 -102 -102 -102 -102 -1...   \n",
       "2  112 111 111 111 111 111 111 111 -102 -102 106 ...   \n",
       "\n",
       "                                                  PR  \\\n",
       "0  87 -100 -100 -100 -100 -100 -100 -100 -100 90 ...   \n",
       "1  165 -102 -102 -102 -102 -102 -102 -102 -102 -1...   \n",
       "2  76 79 78 79 79 80 81 82 -102 -102 79 80 81 79 ...   \n",
       "\n",
       "                                                SPO2  \\\n",
       "0  99 -100 -100 -100 -100 -100 -100 -100 -100 99 ...   \n",
       "1  98 -102 -102 -102 -102 -102 -102 -102 -102 -10...   \n",
       "2  98 99 99 99 100 100 100 100 -102 -102 100 100 ...   \n",
       "\n",
       "                                        NBPDIA_inter  \\\n",
       "0  71.0 72.0 72.0 72.0 72.0 72.0 73.0 73.0 73.0 7...   \n",
       "1  79.0 77.5 77.5 77.5 77.5 77.5 77.5 77.5 77.5 7...   \n",
       "2  80.0 64.0 64.0 64.0 64.0 64.0 64.0 64.0 70.0 7...   \n",
       "\n",
       "                                        NBPSYS_inter  \\\n",
       "0  121.0 122.0 122.0 122.0 122.0 122.0 123.0 123....   \n",
       "1  108.0 105.5 105.5 105.5 105.5 105.5 105.5 105....   \n",
       "2  112.0 111.0 111.0 111.0 111.0 111.0 111.0 111....   \n",
       "\n",
       "                                          SPO2_inter  \\\n",
       "0  99.0 99.0 99.0 99.0 99.0 99.0 99.0 99.0 99.0 9...   \n",
       "1  98.0 98.0 98.0 98.0 98.0 98.0 98.0 98.0 98.0 9...   \n",
       "2  98.0 99.0 99.0 99.0 100.0 100.0 100.0 100.0 10...   \n",
       "\n",
       "                                            PR_inter  \n",
       "0  87.0 88.5 88.5 88.5 88.5 88.5 88.5 88.5 88.5 9...  \n",
       "1  165.0 159.0 159.0 159.0 159.0 159.0 159.0 159....  \n",
       "2  76.0 79.0 78.0 79.0 79.0 80.0 81.0 82.0 80.5 8...  "
      ]
     },
     "execution_count": 99,
     "metadata": {},
     "output_type": "execute_result"
    }
   ],
   "source": [
    "df_clear.head(3)"
   ]
  },
  {
   "cell_type": "code",
   "execution_count": 100,
   "metadata": {},
   "outputs": [],
   "source": [
    "df_clear.to_excel('./data/data_interpolate_time_series.xlsx',index=None)"
   ]
  },
  {
   "cell_type": "code",
   "execution_count": null,
   "metadata": {},
   "outputs": [],
   "source": []
  }
 ],
 "metadata": {
  "kernelspec": {
   "display_name": "Python [conda env:dataAnalysis]",
   "language": "python",
   "name": "conda-env-dataAnalysis-py"
  },
  "language_info": {
   "codemirror_mode": {
    "name": "ipython",
    "version": 3
   },
   "file_extension": ".py",
   "mimetype": "text/x-python",
   "name": "python",
   "nbconvert_exporter": "python",
   "pygments_lexer": "ipython3",
   "version": "3.7.4"
  }
 },
 "nbformat": 4,
 "nbformat_minor": 2
}
