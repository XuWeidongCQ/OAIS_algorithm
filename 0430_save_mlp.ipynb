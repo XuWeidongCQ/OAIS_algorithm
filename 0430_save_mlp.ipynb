{
 "cells": [
  {
   "cell_type": "code",
   "execution_count": 1,
   "metadata": {},
   "outputs": [],
   "source": [
    "import pandas as pd\n",
    "from sklearn.neural_network import MLPRegressor\n",
    "import numpy as np\n",
    "from sklearn.preprocessing import StandardScaler\n",
    "from sklearn.model_selection import train_test_split\n",
    "from sklearn.metrics import mean_squared_error,mean_absolute_error,r2_score\n",
    "from pprint import pprint"
   ]
  },
  {
   "cell_type": "code",
   "execution_count": 2,
   "metadata": {},
   "outputs": [],
   "source": [
    "import matplotlib.pyplot as plt\n",
    "plt.rcParams['font.sans-serif']=['Microsoft YaHei'] #用来正常显示中文标签\n",
    "plt.rcParams['axes.unicode_minus']=True"
   ]
  },
  {
   "cell_type": "code",
   "execution_count": 3,
   "metadata": {},
   "outputs": [
    {
     "data": {
      "text/plain": [
       "(3629, 68)"
      ]
     },
     "execution_count": 3,
     "metadata": {},
     "output_type": "execute_result"
    }
   ],
   "source": [
    "np_CHI = np.load('./np_regression/np_CHI.npy')\n",
    "np_CHI.shape"
   ]
  },
  {
   "cell_type": "code",
   "execution_count": 40,
   "metadata": {},
   "outputs": [],
   "source": [
    "age_bmi_mean = []\n",
    "age_bmi_var = []\n",
    "text_mean = []\n",
    "text_var = []"
   ]
  },
  {
   "cell_type": "code",
   "execution_count": 44,
   "metadata": {},
   "outputs": [],
   "source": [
    "# 把数据切分成训练集和测试集 输入没有标准化的数据\n",
    "def split_data(data):\n",
    "    X = data[:,0:-1]\n",
    "    y = data[:,-1]\n",
    "    return train_test_split(X,y,test_size=0.2)\n",
    "\n",
    "\n",
    "\n",
    "# 输入不包含因变量的训练数据和测试数据\n",
    "def standard_data(train_data,test_data):\n",
    "    print('train_data_size:{}'.format(train_data.shape))\n",
    "    print('test_data_size:{}'.format(test_data.shape))\n",
    "    scaler = StandardScaler()\n",
    "    \n",
    "    scaler1 = scaler.fit(train_data[:,0:2])\n",
    "    age_bmi_mean = scaler1.mean_\n",
    "    print(type(scaler1.var_))\n",
    "    np1_train = scaler1.transform(train_data[:,0:2])\n",
    "    np1_test = scaler1.transform(test_data[:,0:2])\n",
    "    \n",
    "    np2_train = train_data[:,2:17]\n",
    "    np2_test = test_data[:,2:17]\n",
    "    \n",
    "    scaler2 = scaler.fit(train_data[:,17:67])\n",
    "    print(scaler2.mean_)\n",
    "    print(scaler2.var_)\n",
    "    np3_train = scaler2.transform(train_data[:,17:67])\n",
    "    np3_test = scaler2.transform(test_data[:,17:67])\n",
    "\n",
    "    np_train_data = np.hstack((np1_train,np2_train,np3_train))\n",
    "    np_test_data = np.hstack((np1_test,np2_test,np3_test))\n",
    "    print('train_data_scale_size:{}'.format(np_train_data.shape))\n",
    "    print('test_data_scale_size:{}'.format(np_test_data.shape))\n",
    "    return np_train_data,np_test_data,scaler1.mean_,scaler1.var_,scaler2.mean_,scaler2.var_\n",
    "\n",
    "# 传入标准化的数据\n",
    "def get_model_score(train_x,train_y,test_x,test_y,model):\n",
    "    ans = {}\n",
    "    rgs = model.fit(train_x,train_y)\n",
    "    ans['MSE'] = mean_squared_error(test_y,rgs.predict(test_x))\n",
    "    ans['MAE'] = mean_absolute_error(test_y,rgs.predict(test_x))\n",
    "    ans['R2'] = r2_score(test_y,rgs.predict(test_x))\n",
    "    return ans"
   ]
  },
  {
   "cell_type": "code",
   "execution_count": 9,
   "metadata": {},
   "outputs": [],
   "source": [
    "model_mlp = MLPRegressor(hidden_layer_sizes=(100,),\n",
    "                      activation='relu',\n",
    "                      solver='adam',\n",
    "                      alpha=1,\n",
    "                      batch_size=128,\n",
    "                      random_state=None,\n",
    "                      early_stopping=True,\n",
    "                      validation_fraction=0.1,\n",
    "                      max_iter=4000)"
   ]
  },
  {
   "cell_type": "code",
   "execution_count": 45,
   "metadata": {},
   "outputs": [
    {
     "name": "stdout",
     "output_type": "stream",
     "text": [
      "train_data_size:(2903, 67)\n",
      "test_data_size:(726, 67)\n",
      "<class 'numpy.ndarray'>\n",
      "[  5.87281939  -8.78933527 -10.81610807  13.75853465 -13.9883556\n",
      "   6.1053949   -0.77055654   2.72025796  10.91618044  -3.02764052\n",
      "   3.4761151   -7.6233918    7.08175578  11.20428136  10.65745715\n",
      "  -7.27558488   7.02625977   8.5244003  -13.01030673  14.47961694\n",
      "   7.82200346 -14.77682297  -4.73750742  -6.76079966   4.55272313\n",
      "  -3.97981785   6.05763288  -9.09029018  -5.51616275   0.9313837\n",
      "  -0.61697792   9.8896995   -3.03119805 -13.97031274  -6.22534528\n",
      "   3.04788654  19.76248889   6.96420868  -0.61707741  -8.95801352\n",
      " -16.44305336   5.33100474  -6.90545336  -4.79778223  -0.74866953\n",
      "   7.52611596   1.09834257  11.35318681   5.97498879  -7.81807625]\n",
      "[ 532.63146166  346.91877739  537.37173504  585.91973793  878.32758325\n",
      "  905.08016428  397.30555371  431.34722278  580.32128744 1209.37060286\n",
      "  708.11646711  289.91867844  497.28966959  525.97908194  441.86554425\n",
      "  480.88330454  379.86920661  653.19315321  218.97621583  447.52304499\n",
      "  582.01657456  490.87816663  217.03299055  210.95121332  419.10915692\n",
      " 1163.75844487  531.52700894  252.39743831  256.50420246  412.34519842\n",
      "  259.99062971  579.99879278  578.87407116  688.97506892  292.53192839\n",
      "  407.75266284  525.0109025   827.01278747  484.68803851  452.10187964\n",
      "  302.10555858  382.65217478  527.67344234  688.557255    842.78334963\n",
      "  812.42375733  665.2770837   573.10044593  420.73913893  621.43910056]\n",
      "train_data_scale_size:(2903, 67)\n",
      "test_data_scale_size:(726, 67)\n"
     ]
    },
    {
     "data": {
      "text/plain": [
       "{'MSE': 1.7531557408402696,\n",
       " 'MAE': 0.8952045054435566,\n",
       " 'R2': 0.4322882735602531}"
      ]
     },
     "execution_count": 45,
     "metadata": {},
     "output_type": "execute_result"
    }
   ],
   "source": [
    "train_x,test_x,train_y,test_y = split_data(np_CHI)\n",
    "train_x,test_x,age_bmi_mean,age_bmi_var,text_mean,text_var = standard_data(train_x,test_x)\n",
    "get_model_score(train_x,train_y,test_x,test_y,model_mlp)"
   ]
  },
  {
   "cell_type": "code",
   "execution_count": 11,
   "metadata": {},
   "outputs": [
    {
     "data": {
      "text/plain": [
       "['./rgs_model/mlp.model']"
      ]
     },
     "execution_count": 11,
     "metadata": {},
     "output_type": "execute_result"
    }
   ],
   "source": [
    "import joblib\n",
    "# 保存模型\n",
    "\n",
    "joblib.dump(model_mlp,'./rgs_model/mlp.model')"
   ]
  },
  {
   "cell_type": "code",
   "execution_count": 85,
   "metadata": {},
   "outputs": [],
   "source": [
    "m = joblib.load('./rgs_model/mlp.model')"
   ]
  },
  {
   "cell_type": "code",
   "execution_count": 50,
   "metadata": {},
   "outputs": [
    {
     "data": {
      "text/plain": [
       "(50,)"
      ]
     },
     "execution_count": 50,
     "metadata": {},
     "output_type": "execute_result"
    }
   ],
   "source": [
    "age_bmi_mean.shape"
   ]
  },
  {
   "cell_type": "code",
   "execution_count": 37,
   "metadata": {
    "code_folding": []
   },
   "outputs": [
    {
     "ename": "SyntaxError",
     "evalue": "invalid syntax (<ipython-input-37-78c7fedf9a0e>, line 3)",
     "output_type": "error",
     "traceback": [
      "\u001b[1;36m  File \u001b[1;32m\"<ipython-input-37-78c7fedf9a0e>\"\u001b[1;36m, line \u001b[1;32m3\u001b[0m\n\u001b[1;33m    age_bmi_mean = [46.71271099 26.78170167]\u001b[0m\n\u001b[1;37m                                          ^\u001b[0m\n\u001b[1;31mSyntaxError\u001b[0m\u001b[1;31m:\u001b[0m invalid syntax\n"
     ]
    }
   ],
   "source": [
    "# 保存 scaler\n",
    "\n",
    "age_bmi_mean = [46.71271099 26.78170167]\n",
    "age_bmi_var = [307.05008645 4380.11560942]\n",
    "text_mean = [  5.78319234  -8.85477524 -11.18332533  13.24430953 -14.03840216\n",
    "   5.92872342  -0.5807985    2.67184518  10.91372395  -2.16600298\n",
    "   3.31011785  -7.6499757    6.63622798  10.87115673  10.93886998\n",
    "  -7.0071298    6.68922889   8.74470932 -12.91713456  14.58682235\n",
    "   7.9348512  -14.92744062  -4.73395167  -6.81328155   4.57999136\n",
    "  -4.44998419   5.9468436   -8.84345986  -5.69941261   0.79656961\n",
    "  -0.58977357   9.42828669  -2.44308429 -13.70565802  -6.06578553\n",
    "   2.38506312  19.8871731    6.75727422  -0.65908221  -8.72554222\n",
    " -16.10573274   5.42644868  -6.5042737   -4.91789346  -1.06052643\n",
    "   7.19115892   1.13553465  10.98653116   6.26498818  -8.18497908]\n",
    "text_var = [ 503.51649304  344.32430952  536.19400135  560.34977723  874.78181541\n",
    "  905.50137033  398.88862333  432.50655695  586.68475922 1227.7418232\n",
    "  696.08758903  276.90478734  480.20584714  523.37080939  451.52410704\n",
    "  470.21142519  380.501073    663.95959396  232.96644368  437.31514092\n",
    "  562.74919731  507.62319427  221.62505034  217.23789535  387.11119729\n",
    " 1103.72244245  529.95430078  256.29155489  264.96408922  411.14543277\n",
    "  238.49549306  564.68296709  567.00890131  667.18494736  289.66726188\n",
    "  397.05006239  518.48949348  815.84752616  470.94153791  460.09651697\n",
    "  297.80183164  385.79203351  538.88753298  681.61806547  828.82614269\n",
    "  770.83409569  670.78671903  561.38805954  409.42725297  629.05855452]"
   ]
  },
  {
   "cell_type": "code",
   "execution_count": 33,
   "metadata": {},
   "outputs": [
    {
     "data": {
      "text/plain": [
       "array([  5.84079513,  -8.84689548, -10.72505208,  13.82386703,\n",
       "       -14.00457768,   5.91110695,  -0.84449987,   2.50960331,\n",
       "        10.52024393,  -2.49240035,   3.76873588,  -7.444968  ,\n",
       "         6.79722519,  10.96277227,  10.85981216,  -7.48260831,\n",
       "         6.81437958,   8.42056938, -13.09843401,  14.24801775,\n",
       "         7.75055138, -14.91547501,  -5.19436745,  -7.14034177,\n",
       "         4.69590376,  -3.99407311,   6.07042464,  -8.62430031,\n",
       "        -5.91273242,   0.85766981,  -0.52861836,   9.24375171,\n",
       "        -2.3917797 , -13.88422053,  -6.06211267,   2.74825986,\n",
       "        19.5384501 ,   6.28884635,  -1.11936565,  -9.12071486,\n",
       "       -16.30765784,   5.90933978,  -6.18307583,  -4.52527773,\n",
       "        -0.47603031,   7.6678084 ,   0.68939883,  10.9491873 ,\n",
       "         6.41532994,  -7.93376163])"
      ]
     },
     "execution_count": 33,
     "metadata": {},
     "output_type": "execute_result"
    }
   ],
   "source": [
    "age_bmi_scaler.mean_"
   ]
  },
  {
   "cell_type": "code",
   "execution_count": 34,
   "metadata": {},
   "outputs": [
    {
     "data": {
      "text/plain": [
       "array([[81.        , 20.42241946],\n",
       "       [55.        , 21.77112188],\n",
       "       [26.        , 19.140625  ],\n",
       "       ...,\n",
       "       [61.        , 28.99013879],\n",
       "       [51.        , 22.19103223],\n",
       "       [55.        , 20.87198516]])"
      ]
     },
     "execution_count": 34,
     "metadata": {},
     "output_type": "execute_result"
    }
   ],
   "source": [
    "train_x[:,0:2]"
   ]
  },
  {
   "cell_type": "code",
   "execution_count": 58,
   "metadata": {},
   "outputs": [
    {
     "data": {
      "text/plain": [
       "(3629, 68)"
      ]
     },
     "execution_count": 58,
     "metadata": {},
     "output_type": "execute_result"
    }
   ],
   "source": [
    "np_CHI.shape"
   ]
  },
  {
   "cell_type": "code",
   "execution_count": 72,
   "metadata": {},
   "outputs": [],
   "source": [
    "scaler = StandardScaler()\n",
    "X,_,_,_ = split_data(np_CHI)\n",
    "age_bmi_scaler = scaler5.fit(X[:,0:2])"
   ]
  },
  {
   "cell_type": "code",
   "execution_count": 73,
   "metadata": {},
   "outputs": [
    {
     "data": {
      "text/plain": [
       "array([46.25180847, 29.55155469])"
      ]
     },
     "execution_count": 73,
     "metadata": {},
     "output_type": "execute_result"
    }
   ],
   "source": [
    "age_bmi_scaler.mean_"
   ]
  },
  {
   "cell_type": "code",
   "execution_count": 74,
   "metadata": {},
   "outputs": [
    {
     "data": {
      "text/plain": [
       "array([  309.09436032, 36663.91601128])"
      ]
     },
     "execution_count": 74,
     "metadata": {},
     "output_type": "execute_result"
    }
   ],
   "source": [
    "age_bmi_scaler.var_"
   ]
  },
  {
   "cell_type": "code",
   "execution_count": 75,
   "metadata": {},
   "outputs": [
    {
     "data": {
      "text/plain": [
       "['./rgs_model/age_bmi_scaler.joblib']"
      ]
     },
     "execution_count": 75,
     "metadata": {},
     "output_type": "execute_result"
    }
   ],
   "source": [
    "\n",
    "joblib.dump(age_bmi_scaler,'./rgs_model/age_bmi_scaler.joblib')"
   ]
  },
  {
   "cell_type": "code",
   "execution_count": 76,
   "metadata": {},
   "outputs": [],
   "source": [
    "text_scaler = scaler5.fit(X[:,17:67])"
   ]
  },
  {
   "cell_type": "code",
   "execution_count": 79,
   "metadata": {},
   "outputs": [
    {
     "data": {
      "text/plain": [
       "['./rgs_model/text_scaler.joblib']"
      ]
     },
     "execution_count": 79,
     "metadata": {},
     "output_type": "execute_result"
    }
   ],
   "source": [
    "joblib.dump(age_bmi_scaler,'./rgs_model/text_scaler.joblib')"
   ]
  },
  {
   "cell_type": "code",
   "execution_count": 80,
   "metadata": {},
   "outputs": [],
   "source": [
    "sc1 = joblib.load('./rgs_model/age_bmi_scaler.joblib')\n"
   ]
  },
  {
   "cell_type": "code",
   "execution_count": 83,
   "metadata": {},
   "outputs": [
    {
     "data": {
      "text/plain": [
       "array([[ 0.21319462, -0.02899314]])"
      ]
     },
     "execution_count": 83,
     "metadata": {},
     "output_type": "execute_result"
    }
   ],
   "source": [
    "sc1.transform(np.array([[50,24]]))"
   ]
  },
  {
   "cell_type": "code",
   "execution_count": null,
   "metadata": {},
   "outputs": [],
   "source": []
  }
 ],
 "metadata": {
  "kernelspec": {
   "display_name": "Python [conda env:dataAnalysis]",
   "language": "python",
   "name": "conda-env-dataAnalysis-py"
  },
  "language_info": {
   "codemirror_mode": {
    "name": "ipython",
    "version": 3
   },
   "file_extension": ".py",
   "mimetype": "text/x-python",
   "name": "python",
   "nbconvert_exporter": "python",
   "pygments_lexer": "ipython3",
   "version": "3.7.4"
  }
 },
 "nbformat": 4,
 "nbformat_minor": 2
}
