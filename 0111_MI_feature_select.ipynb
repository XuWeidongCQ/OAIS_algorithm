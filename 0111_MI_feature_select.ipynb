{
 "cells": [
  {
   "cell_type": "code",
   "execution_count": 6,
   "metadata": {},
   "outputs": [],
   "source": [
    "import pandas as pd\n",
    "from pprint import pprint\n",
    "import math"
   ]
  },
  {
   "cell_type": "code",
   "execution_count": 2,
   "metadata": {},
   "outputs": [
    {
     "data": {
      "text/plain": [
       "(3629, 30)"
      ]
     },
     "execution_count": 2,
     "metadata": {},
     "output_type": "execute_result"
    }
   ],
   "source": [
    "path = './data/data_with_time_series.xlsx'\n",
    "df = pd.read_excel(path)\n",
    "df.shape"
   ]
  },
  {
   "cell_type": "code",
   "execution_count": 3,
   "metadata": {},
   "outputs": [
    {
     "data": {
      "text/plain": [
       "(3629, 4)"
      ]
     },
     "execution_count": 3,
     "metadata": {},
     "output_type": "execute_result"
    }
   ],
   "source": [
    "df_ori = df.filter(['手术ID','病区','实施手术_分词','术前诊断_分词']).copy()\n",
    "df_ori.shape"
   ]
  },
  {
   "cell_type": "code",
   "execution_count": 4,
   "metadata": {},
   "outputs": [],
   "source": [
    "# 返回以列表形式表示的分词结果\n",
    "def word_list(s):\n",
    "    return s.split('|')\n",
    "\n",
    "\n",
    "def word_dictionary(df,col):   \n",
    "    ans = set()\n",
    "    def handle(s):\n",
    "        for w in word_list(s):\n",
    "            ans.add(w)\n",
    "    df[col].apply(handle)\n",
    "    print('获得单词:'+str(len(ans)))\n",
    "    return ans\n",
    "\n",
    "def get_departments(df):\n",
    "    return list(set(df['病区']))"
   ]
  },
  {
   "cell_type": "code",
   "execution_count": 23,
   "metadata": {},
   "outputs": [],
   "source": [
    "# 计算每一个单词的互信息值\n",
    "def MI(df,word,department,word_col_name):\n",
    "    N = df.shape[0]\n",
    "    A = df[(df['病区'] == department) & (df[word_col_name].str.contains(word))].shape[0]\n",
    "    B = df[~(df['病区'] == department) & (df[word_col_name].str.contains(word))].shape[0]\n",
    "    C = df[(df['病区'] == department) & ~(df[word_col_name].str.contains(word))].shape[0]\n",
    "    if A == 0:\n",
    "        return 0\n",
    "    numerator = N*A\n",
    "    denominator = (A+B)*(A+C)\n",
    "    return round(math.log2(numerator / denominator),4)\n",
    "\n",
    "# 计算feature_matrix矩阵\n",
    "def get_feature_matrix(df,departments,words,word_col_name):\n",
    "    feature_matrix = pd.DataFrame(index=words,columns=departments,dtype='float')\n",
    "    count = 1\n",
    "    for w in words:\n",
    "        if count % 100 == 0:\n",
    "            print('进度:' + str(count))\n",
    "        row = []\n",
    "        for c in departments:\n",
    "            row.append(MI(df,w,c,word_col_name))\n",
    "        feature_matrix.loc[w] = row\n",
    "        count += 1\n",
    "    feature_matrix['MI_MAX'] = feature_matrix.max(axis=1)\n",
    "    feature_matrix.sort_values('MI_MAX',ascending=False,inplace=True)\n",
    "    return feature_matrix"
   ]
  },
  {
   "cell_type": "code",
   "execution_count": 7,
   "metadata": {},
   "outputs": [],
   "source": [
    "cols = get_departments(df_ori)"
   ]
  },
  {
   "cell_type": "code",
   "execution_count": 9,
   "metadata": {},
   "outputs": [
    {
     "name": "stdout",
     "output_type": "stream",
     "text": [
      "获得单词:1690\n"
     ]
    }
   ],
   "source": [
    "dictionary_diagnose = word_dictionary(df,'术前诊断_分词')"
   ]
  },
  {
   "cell_type": "code",
   "execution_count": 17,
   "metadata": {},
   "outputs": [
    {
     "data": {
      "text/plain": [
       "2.589"
      ]
     },
     "execution_count": 17,
     "metadata": {},
     "output_type": "execute_result"
    }
   ],
   "source": [
    "MI(df_ori,'妊娠','妇产科病区','术前诊断_分词')"
   ]
  },
  {
   "cell_type": "code",
   "execution_count": 18,
   "metadata": {},
   "outputs": [
    {
     "name": "stdout",
     "output_type": "stream",
     "text": [
      "进度:100\n",
      "进度:200\n",
      "进度:300\n",
      "进度:400\n",
      "进度:500\n",
      "进度:600\n",
      "进度:700\n",
      "进度:800\n",
      "进度:900\n",
      "进度:1000\n",
      "进度:1100\n",
      "进度:1200\n",
      "进度:1300\n",
      "进度:1400\n",
      "进度:1500\n",
      "进度:1600\n"
     ]
    }
   ],
   "source": [
    "mi_feature_matrix_diagnose = get_feature_matrix(df_ori,cols,dictionary_diagnose,'术前诊断_分词')"
   ]
  },
  {
   "cell_type": "code",
   "execution_count": 20,
   "metadata": {},
   "outputs": [
    {
     "data": {
      "text/html": [
       "<div>\n",
       "<style scoped>\n",
       "    .dataframe tbody tr th:only-of-type {\n",
       "        vertical-align: middle;\n",
       "    }\n",
       "\n",
       "    .dataframe tbody tr th {\n",
       "        vertical-align: top;\n",
       "    }\n",
       "\n",
       "    .dataframe thead th {\n",
       "        text-align: right;\n",
       "    }\n",
       "</style>\n",
       "<table border=\"1\" class=\"dataframe\">\n",
       "  <thead>\n",
       "    <tr style=\"text-align: right;\">\n",
       "      <th></th>\n",
       "      <th>泌尿外科中心病区</th>\n",
       "      <th>耳鼻咽喉科病区</th>\n",
       "      <th>肝胆外科病区</th>\n",
       "      <th>神经内科病区</th>\n",
       "      <th>妇产科病区</th>\n",
       "      <th>整形外科病区</th>\n",
       "      <th>骨科病区</th>\n",
       "      <th>眼科病区</th>\n",
       "      <th>心血管病区</th>\n",
       "      <th>普通外科病区</th>\n",
       "      <th>普通胸外科病区</th>\n",
       "      <th>神经外科病区</th>\n",
       "      <th>口腔科病区</th>\n",
       "      <th>CHI_MAX</th>\n",
       "    </tr>\n",
       "  </thead>\n",
       "  <tbody>\n",
       "    <tr>\n",
       "      <th>术后</th>\n",
       "      <td>0.6615</td>\n",
       "      <td>-0.8712</td>\n",
       "      <td>-0.6714</td>\n",
       "      <td>-1.9810</td>\n",
       "      <td>-0.7645</td>\n",
       "      <td>1.0696</td>\n",
       "      <td>0.6599</td>\n",
       "      <td>0.4847</td>\n",
       "      <td>-1.8195</td>\n",
       "      <td>0.2691</td>\n",
       "      <td>-1.138</td>\n",
       "      <td>0.1565</td>\n",
       "      <td>-0.0299</td>\n",
       "      <td>1.0696</td>\n",
       "    </tr>\n",
       "    <tr>\n",
       "      <th>左</th>\n",
       "      <td>0.8580</td>\n",
       "      <td>0.2443</td>\n",
       "      <td>-3.1998</td>\n",
       "      <td>-0.8655</td>\n",
       "      <td>-2.6490</td>\n",
       "      <td>-0.1368</td>\n",
       "      <td>0.3504</td>\n",
       "      <td>0.8632</td>\n",
       "      <td>-0.7889</td>\n",
       "      <td>-0.6378</td>\n",
       "      <td>0.852</td>\n",
       "      <td>0.5781</td>\n",
       "      <td>0.9860</td>\n",
       "      <td>0.9860</td>\n",
       "    </tr>\n",
       "    <tr>\n",
       "      <th>综合征</th>\n",
       "      <td>0.1180</td>\n",
       "      <td>-0.5078</td>\n",
       "      <td>0.0000</td>\n",
       "      <td>0.0000</td>\n",
       "      <td>0.8213</td>\n",
       "      <td>0.0000</td>\n",
       "      <td>0.5804</td>\n",
       "      <td>0.0000</td>\n",
       "      <td>0.3215</td>\n",
       "      <td>-1.0679</td>\n",
       "      <td>0.000</td>\n",
       "      <td>-0.9395</td>\n",
       "      <td>0.0000</td>\n",
       "      <td>0.8213</td>\n",
       "    </tr>\n",
       "    <tr>\n",
       "      <th>征</th>\n",
       "      <td>0.0591</td>\n",
       "      <td>-0.5667</td>\n",
       "      <td>0.0000</td>\n",
       "      <td>0.0000</td>\n",
       "      <td>0.7624</td>\n",
       "      <td>0.0000</td>\n",
       "      <td>0.6914</td>\n",
       "      <td>0.0000</td>\n",
       "      <td>0.2626</td>\n",
       "      <td>-1.1268</td>\n",
       "      <td>0.000</td>\n",
       "      <td>-0.9984</td>\n",
       "      <td>0.0000</td>\n",
       "      <td>0.7624</td>\n",
       "    </tr>\n",
       "    <tr>\n",
       "      <th>L</th>\n",
       "      <td>0.1180</td>\n",
       "      <td>0.0000</td>\n",
       "      <td>0.0000</td>\n",
       "      <td>0.0000</td>\n",
       "      <td>0.5989</td>\n",
       "      <td>0.0000</td>\n",
       "      <td>0.7503</td>\n",
       "      <td>0.0000</td>\n",
       "      <td>0.3215</td>\n",
       "      <td>0.5170</td>\n",
       "      <td>0.000</td>\n",
       "      <td>0.0000</td>\n",
       "      <td>0.0000</td>\n",
       "      <td>0.7503</td>\n",
       "    </tr>\n",
       "  </tbody>\n",
       "</table>\n",
       "</div>"
      ],
      "text/plain": [
       "     泌尿外科中心病区  耳鼻咽喉科病区  肝胆外科病区  神经内科病区   妇产科病区  整形外科病区    骨科病区    眼科病区  \\\n",
       "术后     0.6615  -0.8712 -0.6714 -1.9810 -0.7645  1.0696  0.6599  0.4847   \n",
       "左      0.8580   0.2443 -3.1998 -0.8655 -2.6490 -0.1368  0.3504  0.8632   \n",
       "综合征    0.1180  -0.5078  0.0000  0.0000  0.8213  0.0000  0.5804  0.0000   \n",
       "征      0.0591  -0.5667  0.0000  0.0000  0.7624  0.0000  0.6914  0.0000   \n",
       "L      0.1180   0.0000  0.0000  0.0000  0.5989  0.0000  0.7503  0.0000   \n",
       "\n",
       "      心血管病区  普通外科病区  普通胸外科病区  神经外科病区   口腔科病区  CHI_MAX  \n",
       "术后  -1.8195  0.2691   -1.138  0.1565 -0.0299   1.0696  \n",
       "左   -0.7889 -0.6378    0.852  0.5781  0.9860   0.9860  \n",
       "综合征  0.3215 -1.0679    0.000 -0.9395  0.0000   0.8213  \n",
       "征    0.2626 -1.1268    0.000 -0.9984  0.0000   0.7624  \n",
       "L    0.3215  0.5170    0.000  0.0000  0.0000   0.7503  "
      ]
     },
     "execution_count": 20,
     "metadata": {},
     "output_type": "execute_result"
    }
   ],
   "source": [
    "mi_feature_matrix_diagnose.tail()"
   ]
  },
  {
   "cell_type": "code",
   "execution_count": 21,
   "metadata": {},
   "outputs": [
    {
     "name": "stdout",
     "output_type": "stream",
     "text": [
      "获得单词:1343\n"
     ]
    }
   ],
   "source": [
    "dictionary_operation = word_dictionary(df_ori,'实施手术_分词')"
   ]
  },
  {
   "cell_type": "code",
   "execution_count": 28,
   "metadata": {},
   "outputs": [
    {
     "name": "stdout",
     "output_type": "stream",
     "text": [
      "进度:100\n",
      "进度:200\n",
      "进度:300\n",
      "进度:400\n",
      "进度:500\n",
      "进度:600\n",
      "进度:700\n",
      "进度:800\n",
      "进度:900\n",
      "进度:1000\n",
      "进度:1100\n",
      "进度:1200\n",
      "进度:1300\n"
     ]
    }
   ],
   "source": [
    "mi_feature_matrix_operation = get_feature_matrix(df_ori,cols,dictionary_operation,'实施手术_分词')"
   ]
  },
  {
   "cell_type": "code",
   "execution_count": 29,
   "metadata": {},
   "outputs": [
    {
     "data": {
      "text/html": [
       "<div>\n",
       "<style scoped>\n",
       "    .dataframe tbody tr th:only-of-type {\n",
       "        vertical-align: middle;\n",
       "    }\n",
       "\n",
       "    .dataframe tbody tr th {\n",
       "        vertical-align: top;\n",
       "    }\n",
       "\n",
       "    .dataframe thead th {\n",
       "        text-align: right;\n",
       "    }\n",
       "</style>\n",
       "<table border=\"1\" class=\"dataframe\">\n",
       "  <thead>\n",
       "    <tr style=\"text-align: right;\">\n",
       "      <th></th>\n",
       "      <th>泌尿外科中心病区</th>\n",
       "      <th>耳鼻咽喉科病区</th>\n",
       "      <th>肝胆外科病区</th>\n",
       "      <th>神经内科病区</th>\n",
       "      <th>妇产科病区</th>\n",
       "      <th>整形外科病区</th>\n",
       "      <th>骨科病区</th>\n",
       "      <th>眼科病区</th>\n",
       "      <th>心血管病区</th>\n",
       "      <th>普通外科病区</th>\n",
       "      <th>普通胸外科病区</th>\n",
       "      <th>神经外科病区</th>\n",
       "      <th>口腔科病区</th>\n",
       "      <th>MI_MAX</th>\n",
       "    </tr>\n",
       "  </thead>\n",
       "  <tbody>\n",
       "    <tr>\n",
       "      <th>左</th>\n",
       "      <td>0.8317</td>\n",
       "      <td>0.1838</td>\n",
       "      <td>-1.3647</td>\n",
       "      <td>0.4551</td>\n",
       "      <td>-1.5113</td>\n",
       "      <td>0.1134</td>\n",
       "      <td>0.2120</td>\n",
       "      <td>1.2833</td>\n",
       "      <td>-0.7127</td>\n",
       "      <td>-0.5547</td>\n",
       "      <td>0.9932</td>\n",
       "      <td>-0.1507</td>\n",
       "      <td>0.8718</td>\n",
       "      <td>1.2833</td>\n",
       "    </tr>\n",
       "    <tr>\n",
       "      <th>切</th>\n",
       "      <td>0.3631</td>\n",
       "      <td>0.3492</td>\n",
       "      <td>1.2535</td>\n",
       "      <td>0.0000</td>\n",
       "      <td>-0.0073</td>\n",
       "      <td>-1.4648</td>\n",
       "      <td>-0.5230</td>\n",
       "      <td>-0.4648</td>\n",
       "      <td>-3.5763</td>\n",
       "      <td>0.0115</td>\n",
       "      <td>0.4291</td>\n",
       "      <td>0.0815</td>\n",
       "      <td>0.8280</td>\n",
       "      <td>1.2535</td>\n",
       "    </tr>\n",
       "    <tr>\n",
       "      <th>右侧</th>\n",
       "      <td>0.7454</td>\n",
       "      <td>0.8041</td>\n",
       "      <td>0.0000</td>\n",
       "      <td>1.2469</td>\n",
       "      <td>-0.4110</td>\n",
       "      <td>-0.7469</td>\n",
       "      <td>0.2334</td>\n",
       "      <td>0.0000</td>\n",
       "      <td>0.0000</td>\n",
       "      <td>0.6590</td>\n",
       "      <td>0.0000</td>\n",
       "      <td>0.0505</td>\n",
       "      <td>1.1536</td>\n",
       "      <td>1.2469</td>\n",
       "    </tr>\n",
       "    <tr>\n",
       "      <th>全</th>\n",
       "      <td>-2.1087</td>\n",
       "      <td>-4.3194</td>\n",
       "      <td>-3.4416</td>\n",
       "      <td>0.3781</td>\n",
       "      <td>1.1565</td>\n",
       "      <td>-0.9636</td>\n",
       "      <td>0.6016</td>\n",
       "      <td>0.0000</td>\n",
       "      <td>-2.2677</td>\n",
       "      <td>-0.0722</td>\n",
       "      <td>-4.1712</td>\n",
       "      <td>0.6412</td>\n",
       "      <td>-3.0631</td>\n",
       "      <td>1.1565</td>\n",
       "    </tr>\n",
       "    <tr>\n",
       "      <th>左侧</th>\n",
       "      <td>1.0667</td>\n",
       "      <td>0.9173</td>\n",
       "      <td>0.0000</td>\n",
       "      <td>0.6149</td>\n",
       "      <td>-0.3910</td>\n",
       "      <td>-0.7268</td>\n",
       "      <td>0.0279</td>\n",
       "      <td>0.0000</td>\n",
       "      <td>-4.8383</td>\n",
       "      <td>0.4864</td>\n",
       "      <td>-3.9344</td>\n",
       "      <td>0.2405</td>\n",
       "      <td>0.7586</td>\n",
       "      <td>1.0667</td>\n",
       "    </tr>\n",
       "  </tbody>\n",
       "</table>\n",
       "</div>"
      ],
      "text/plain": [
       "    泌尿外科中心病区  耳鼻咽喉科病区  肝胆外科病区  神经内科病区   妇产科病区  整形外科病区    骨科病区    眼科病区   心血管病区  \\\n",
       "左     0.8317   0.1838 -1.3647  0.4551 -1.5113  0.1134  0.2120  1.2833 -0.7127   \n",
       "切     0.3631   0.3492  1.2535  0.0000 -0.0073 -1.4648 -0.5230 -0.4648 -3.5763   \n",
       "右侧    0.7454   0.8041  0.0000  1.2469 -0.4110 -0.7469  0.2334  0.0000  0.0000   \n",
       "全    -2.1087  -4.3194 -3.4416  0.3781  1.1565 -0.9636  0.6016  0.0000 -2.2677   \n",
       "左侧    1.0667   0.9173  0.0000  0.6149 -0.3910 -0.7268  0.0279  0.0000 -4.8383   \n",
       "\n",
       "    普通外科病区  普通胸外科病区  神经外科病区   口腔科病区  MI_MAX  \n",
       "左  -0.5547   0.9932 -0.1507  0.8718  1.2833  \n",
       "切   0.0115   0.4291  0.0815  0.8280  1.2535  \n",
       "右侧  0.6590   0.0000  0.0505  1.1536  1.2469  \n",
       "全  -0.0722  -4.1712  0.6412 -3.0631  1.1565  \n",
       "左侧  0.4864  -3.9344  0.2405  0.7586  1.0667  "
      ]
     },
     "execution_count": 29,
     "metadata": {},
     "output_type": "execute_result"
    }
   ],
   "source": [
    "mi_feature_matrix_operation.tail()"
   ]
  },
  {
   "cell_type": "code",
   "execution_count": 26,
   "metadata": {},
   "outputs": [],
   "source": [
    "mi_feature_matrix_diagnose.to_excel('./feature_matrix/mi_feature_diagnose.xlsx')"
   ]
  },
  {
   "cell_type": "code",
   "execution_count": 30,
   "metadata": {},
   "outputs": [],
   "source": [
    "mi_feature_matrix_operation.to_excel('./feature_matrix/mi_feature_operation.xlsx')"
   ]
  },
  {
   "cell_type": "code",
   "execution_count": null,
   "metadata": {},
   "outputs": [],
   "source": []
  }
 ],
 "metadata": {
  "kernelspec": {
   "display_name": "Python [conda env:dataAnalysis]",
   "language": "python",
   "name": "conda-env-dataAnalysis-py"
  },
  "language_info": {
   "codemirror_mode": {
    "name": "ipython",
    "version": 3
   },
   "file_extension": ".py",
   "mimetype": "text/x-python",
   "name": "python",
   "nbconvert_exporter": "python",
   "pygments_lexer": "ipython3",
   "version": "3.7.4"
  }
 },
 "nbformat": 4,
 "nbformat_minor": 2
}
