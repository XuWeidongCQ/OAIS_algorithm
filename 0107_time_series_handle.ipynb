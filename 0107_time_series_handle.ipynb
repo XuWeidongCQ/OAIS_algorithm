{
 "cells": [
  {
   "cell_type": "code",
   "execution_count": 73,
   "metadata": {},
   "outputs": [],
   "source": [
    "import pandas as pd\n",
    "import re"
   ]
  },
  {
   "cell_type": "code",
   "execution_count": 68,
   "metadata": {},
   "outputs": [],
   "source": [
    "import matplotlib.pyplot as plt\n",
    "plt.rcParams['font.sans-serif']=['SimHei'] #用来正常显示中文标签\n",
    "plt.rcParams['axes.unicode_minus']=False #用来正常显示负号"
   ]
  },
  {
   "cell_type": "code",
   "execution_count": 2,
   "metadata": {},
   "outputs": [
    {
     "data": {
      "text/plain": [
       "(3629, 30)"
      ]
     },
     "execution_count": 2,
     "metadata": {},
     "output_type": "execute_result"
    }
   ],
   "source": [
    "path = './data/data_with_segment.xlsx'\n",
    "df = pd.read_excel(path)\n",
    "df.shape"
   ]
  },
  {
   "cell_type": "code",
   "execution_count": 23,
   "metadata": {},
   "outputs": [
    {
     "data": {
      "text/plain": [
       "(3629, 30)"
      ]
     },
     "execution_count": 23,
     "metadata": {},
     "output_type": "execute_result"
    }
   ],
   "source": [
    "df_copy = df.copy(deep=True)\n",
    "df_copy.shape"
   ]
  },
  {
   "cell_type": "code",
   "execution_count": 74,
   "metadata": {
    "code_folding": []
   },
   "outputs": [],
   "source": [
    "# 处理时间序列(去除序列两端的非法值)\n",
    "def handle_series(s):\n",
    "    try:\n",
    "        s = str(s)\n",
    "        series = re.split(r'\\s+',s.strip())\n",
    "        length = len(series)\n",
    "        if length == 1:\n",
    "            return '0'\n",
    "        l = 0\n",
    "        r = length - 1\n",
    "        # 从左边找到第一个合法数字的索引\n",
    "        while l < length:\n",
    "            if not re.match(r'^[-]?[0-9.]+$',series[l]):\n",
    "                l = l + 1\n",
    "            else:\n",
    "                if float(series[l]) <= 0:\n",
    "                    l = l + 1\n",
    "                else:\n",
    "                    break\n",
    "        # 从右边边找到第一个合法数字的索引\n",
    "        while r > 0:\n",
    "            if not re.match(r'^[-]?[0-9.]+$',series[r]):\n",
    "                r = r - 1\n",
    "            else:\n",
    "                if float(series[r]) <= 0:\n",
    "                    r = r - 1\n",
    "                else:\n",
    "                    break\n",
    "        if l >= r:\n",
    "            return '0'\n",
    "        else:\n",
    "            return ' '.join(series[l:r+1])\n",
    "    except:\n",
    "        print(s)"
   ]
  },
  {
   "cell_type": "code",
   "execution_count": 77,
   "metadata": {},
   "outputs": [
    {
     "data": {
      "text/plain": [
       "0                                                       0\n",
       "1                                                       0\n",
       "2       21 21 21 21 21 21.1 21.1 -102 -102 -999 21.2 2...\n",
       "3                                                       0\n",
       "4                                                       0\n",
       "                              ...                        \n",
       "3624    23.3 23.3 23.3 23.3 23.3 23.3 23.3 23.4 23.3 2...\n",
       "3625                                                    0\n",
       "3626    23.2 23.1 23.1 23 23 23 23 23 23 23 22.9 22.9 ...\n",
       "3627                                                    0\n",
       "3628                                                    0\n",
       "Name: T1, Length: 3629, dtype: object"
      ]
     },
     "execution_count": 77,
     "metadata": {},
     "output_type": "execute_result"
    }
   ],
   "source": [
    "df_copy['T1'].apply(handle_series)"
   ]
  },
  {
   "cell_type": "code",
   "execution_count": 78,
   "metadata": {},
   "outputs": [],
   "source": [
    "def fix_time_series(df):\n",
    "    print(df.shape[0])\n",
    "    cols = ['ART2DIA','ART2MEAN','ART2SYS','ARTDIA','ARTMEAN','ARTSYS',\n",
    "           'BIS','CVP','EtCO2','HR','NBPDIA','NBPMEAN',\n",
    "           'NBPSYS','PR','RR','SPO2','T1','T2']\n",
    "    for col in cols:\n",
    "        print(col)\n",
    "        df[col] = df[col].apply(handle_series)\n",
    "        print(col + ':' + str(len(df[col])))"
   ]
  },
  {
   "cell_type": "code",
   "execution_count": 79,
   "metadata": {},
   "outputs": [
    {
     "name": "stdout",
     "output_type": "stream",
     "text": [
      "3629\n",
      "ART2DIA\n",
      "ART2DIA:3629\n",
      "ART2MEAN\n",
      "ART2MEAN:3629\n",
      "ART2SYS\n",
      "ART2SYS:3629\n",
      "ARTDIA\n",
      "ARTDIA:3629\n",
      "ARTMEAN\n",
      "ARTMEAN:3629\n",
      "ARTSYS\n",
      "ARTSYS:3629\n",
      "BIS\n",
      "BIS:3629\n",
      "CVP\n",
      "CVP:3629\n",
      "EtCO2\n",
      "EtCO2:3629\n",
      "HR\n",
      "HR:3629\n",
      "NBPDIA\n",
      "NBPDIA:3629\n",
      "NBPMEAN\n",
      "NBPMEAN:3629\n",
      "NBPSYS\n",
      "NBPSYS:3629\n",
      "PR\n",
      "PR:3629\n",
      "RR\n",
      "RR:3629\n",
      "SPO2\n",
      "SPO2:3629\n",
      "T1\n",
      "T1:3629\n",
      "T2\n",
      "T2:3629\n"
     ]
    }
   ],
   "source": [
    "fix_time_series(df_copy)"
   ]
  },
  {
   "cell_type": "code",
   "execution_count": 80,
   "metadata": {},
   "outputs": [],
   "source": [
    "df_copy.to_excel('./data/data_with_time_series.xlsx')"
   ]
  },
  {
   "cell_type": "code",
   "execution_count": 70,
   "metadata": {},
   "outputs": [],
   "source": [
    "df_operation_time = df['BIS'].apply(lambda s:len(re.split(r'\\s+',str(s))) * 30 / 3600)"
   ]
  },
  {
   "cell_type": "code",
   "execution_count": 71,
   "metadata": {},
   "outputs": [
    {
     "data": {
      "text/plain": [
       "0       1.808333\n",
       "1       4.758333\n",
       "2       6.650000\n",
       "3       3.958333\n",
       "4       2.875000\n",
       "          ...   \n",
       "3624    0.625000\n",
       "3625    1.225000\n",
       "3626    1.908333\n",
       "3627    1.925000\n",
       "3628    2.266667\n",
       "Name: BIS, Length: 3629, dtype: float64"
      ]
     },
     "execution_count": 71,
     "metadata": {},
     "output_type": "execute_result"
    }
   ],
   "source": [
    "df_operation_time"
   ]
  },
  {
   "cell_type": "code",
   "execution_count": 72,
   "metadata": {},
   "outputs": [
    {
     "data": {
      "image/png": "[encoded data removed]",
      "text/plain": [
       "<Figure size 576x432 with 1 Axes>"
      ]
     },
     "metadata": {
      "needs_background": "light"
     },
     "output_type": "display_data"
    }
   ],
   "source": [
    "with plt.style.context(['science','grid','notebook']):\n",
    "    plt.figure(figsize=(8,6))\n",
    "    plt.hist(df_operation_time, bins=70, density=False,edgecolor=\"black\",color='#00b141')\n",
    "    \n",
    "    plt.ylabel('频数',fontdict={'size':14})\n",
    "    plt.xlabel('手术时长',fontdict={'size':14})\n",
    "\n",
    "    plt.show()"
   ]
  },
  {
   "cell_type": "code",
   "execution_count": null,
   "metadata": {},
   "outputs": [],
   "source": []
  }
 ],
 "metadata": {
  "kernelspec": {
   "display_name": "Python [conda env:dataAnalysis]",
   "language": "python",
   "name": "conda-env-dataAnalysis-py"
  },
  "language_info": {
   "codemirror_mode": {
    "name": "ipython",
    "version": 3
   },
   "file_extension": ".py",
   "mimetype": "text/x-python",
   "name": "python",
   "nbconvert_exporter": "python",
   "pygments_lexer": "ipython3",
   "version": "3.7.4"
  }
 },
 "nbformat": 4,
 "nbformat_minor": 2
}
