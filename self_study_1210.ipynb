{
 "cells": [
  {
   "cell_type": "code",
   "execution_count": 2,
   "metadata": {},
   "outputs": [],
   "source": [
    "import numpy as np\n",
    "import random"
   ]
  },
  {
   "cell_type": "code",
   "execution_count": 3,
   "metadata": {},
   "outputs": [],
   "source": [
    "np_CHI = np.load('./np_regression/np_CHI.npy')\n",
    "np_IG = np.load('./np_regression/np_IG.npy')\n",
    "np_MI = np.load('./np_regression/np_MI.npy')"
   ]
  },
  {
   "cell_type": "code",
   "execution_count": 5,
   "metadata": {},
   "outputs": [
    {
     "name": "stdout",
     "output_type": "stream",
     "text": [
      "(3583, 95)\n",
      "(3583, 95)\n",
      "(3583, 95)\n",
      "(3583, 95)\n",
      "(3205, 95)\n",
      "(3205, 95)\n"
     ]
    }
   ],
   "source": [
    "# 加载数据\n",
    "data = []\n",
    "feature_method = ['CHI','IG','MI']\n",
    "is_inter = ['False','True']\n",
    "for f in feature_method:\n",
    "    for inter in is_inter:\n",
    "        data.append(np.load('./np_cluster_pro/np_{}_{}.npy'.format(f,inter)))\n",
    "for item in data:\n",
    "    print(item.shape)"
   ]
  },
  {
   "cell_type": "code",
   "execution_count": 4,
   "metadata": {},
   "outputs": [
    {
     "name": "stdout",
     "output_type": "stream",
     "text": [
      "(3629, 68)\n",
      "(3629, 68)\n",
      "(3245, 68)\n"
     ]
    }
   ],
   "source": [
    "print(np_CHI.shape)\n",
    "print(np_IG.shape)\n",
    "print(np_MI.shape)"
   ]
  },
  {
   "cell_type": "code",
   "execution_count": null,
   "metadata": {},
   "outputs": [],
   "source": []
  }
 ],
 "metadata": {
  "kernelspec": {
   "display_name": "Python [conda env:dataAnalysis]",
   "language": "python",
   "name": "conda-env-dataAnalysis-py"
  },
  "language_info": {
   "codemirror_mode": {
    "name": "ipython",
    "version": 3
   },
   "file_extension": ".py",
   "mimetype": "text/x-python",
   "name": "python",
   "nbconvert_exporter": "python",
   "pygments_lexer": "ipython3",
   "version": "3.7.4"
  }
 },
 "nbformat": 4,
 "nbformat_minor": 2
}
