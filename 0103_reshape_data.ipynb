{
 "cells": [
  {
   "cell_type": "code",
   "execution_count": 1,
   "metadata": {},
   "outputs": [],
   "source": [
    "import pandas as pd"
   ]
  },
  {
   "cell_type": "code",
   "execution_count": 60,
   "metadata": {},
   "outputs": [],
   "source": [
    "# 总结\n",
    "# 读入原始数据，数据reshape\n",
    "def reshape_data():\n",
    "    PATH = './monitor_data_from_2021_01_03.xlsx' #数据原始文件\n",
    "    OUT_PATH = './data_reshape.xlsx' #数据输出位置\n",
    "    df = pd.read_excel(PATH)\n",
    "    #把数据分成两部分\n",
    "    df_left = df.filter(items=['手术ID','姓名','性别','年龄','体重','身高','病区','实施手术','术前诊断','监测ID'])\n",
    "    df_left = df_left.drop_duplicates(subset=['手术ID'],keep='first') #去重\n",
    "    print('df_left:',df_left.shape)\n",
    "    df_right = df.filter(items=['监测ID','监测名称','监测数据_v'])\n",
    "    # 数据透视表\n",
    "    df_pivot_table = df_right.pivot(index='监测ID',columns='监测名称',values='监测数据_v')\n",
    "    print('df_pivot_table:',df_pivot_table.shape)\n",
    "    # 合并两个表\n",
    "    df_final = pd.merge(df_left,df_pivot_table,on='监测ID',how='left')\n",
    "    # 写入文件\n",
    "    df_final.to_excel(OUT_PATH)"
   ]
  },
  {
   "cell_type": "code",
   "execution_count": 62,
   "metadata": {},
   "outputs": [],
   "source": [
    "reshape_data()"
   ]
  },
  {
   "cell_type": "code",
   "execution_count": null,
   "metadata": {},
   "outputs": [],
   "source": []
  }
 ],
 "metadata": {
  "kernelspec": {
   "display_name": "Python [conda env:dataAnalysis]",
   "language": "python",
   "name": "conda-env-dataAnalysis-py"
  },
  "language_info": {
   "codemirror_mode": {
    "name": "ipython",
    "version": 3
   },
   "file_extension": ".py",
   "mimetype": "text/x-python",
   "name": "python",
   "nbconvert_exporter": "python",
   "pygments_lexer": "ipython3",
   "version": "3.7.4"
  }
 },
 "nbformat": 4,
 "nbformat_minor": 2
}
