{
 "cells": [
  {
   "cell_type": "code",
   "execution_count": 1,
   "metadata": {},
   "outputs": [],
   "source": [
    "import pandas as pd\n",
    "from pprint import pprint\n",
    "import math"
   ]
  },
  {
   "cell_type": "code",
   "execution_count": 2,
   "metadata": {},
   "outputs": [
    {
     "data": {
      "text/plain": [
       "(3629, 30)"
      ]
     },
     "execution_count": 2,
     "metadata": {},
     "output_type": "execute_result"
    }
   ],
   "source": [
    "path = './data/data_with_time_series.xlsx'\n",
    "df = pd.read_excel(path)\n",
    "df.shape"
   ]
  },
  {
   "cell_type": "code",
   "execution_count": 3,
   "metadata": {},
   "outputs": [
    {
     "data": {
      "text/plain": [
       "(3629, 4)"
      ]
     },
     "execution_count": 3,
     "metadata": {},
     "output_type": "execute_result"
    }
   ],
   "source": [
    "df_ori = df.filter(['手术ID','病区','实施手术_分词','术前诊断_分词']).copy()\n",
    "df_ori.shape"
   ]
  },
  {
   "cell_type": "code",
   "execution_count": 4,
   "metadata": {},
   "outputs": [],
   "source": [
    "# 返回以列表形式表示的分词结果\n",
    "def word_list(s):\n",
    "    return s.split('|')\n",
    "\n",
    "\n",
    "def word_dictionary(df,col):   \n",
    "    ans = set()\n",
    "    def handle(s):\n",
    "        for w in word_list(s):\n",
    "            ans.add(w)\n",
    "    df[col].apply(handle)\n",
    "    print('获得单词:'+str(len(ans)))\n",
    "    return ans\n",
    "\n",
    "def get_departments(df):\n",
    "    return list(set(df['病区']))"
   ]
  },
  {
   "cell_type": "code",
   "execution_count": 50,
   "metadata": {},
   "outputs": [],
   "source": [
    "# 输入一个事件的发生概率列表，计算它的信息熵\n",
    "def entropy(p_list):\n",
    "    ans = 0.0\n",
    "    for p in p_list:\n",
    "        ans += (-1) * p * math.log2(p)\n",
    "    return ans\n",
    "\n",
    "# 计算每个科室出现的概率\n",
    "def get_department_prob(df):\n",
    "    prob = []\n",
    "    total = df.shape[0]\n",
    "    for department in get_departments(df):\n",
    "        prob.append(df[df['病区'] == department].shape[0] / total)\n",
    "    return prob\n",
    "\n",
    "# \n",
    "def IG(word,entropy_C,df,departments,word_col_name):\n",
    "    N = df.shape[0]\n",
    "    entropy_C_w = 0.0\n",
    "    for department in departments:\n",
    "        A = df[(df[word_col_name].str.contains(word)) & (df['病区'] == department)].shape[0]\n",
    "        B = df[(df[word_col_name].str.contains(word)) & ~(df['病区'] == department)].shape[0]\n",
    "        C = df[~(df[word_col_name].str.contains(word)) & (df['病区'] == department)].shape[0]\n",
    "        D = df[~(df[word_col_name].str.contains(word)) & ~(df['病区'] == department)].shape[0]\n",
    "        left = 0.0\n",
    "        right = 0.0\n",
    "        if A != 0:\n",
    "            left = -(A / N) * math.log2(A / (A + B))\n",
    "        if C != 0:\n",
    "            right = - (C / N) * math.log2(C / (C + D))\n",
    "        entropy_C_w +=  left + right\n",
    "    return entropy_C - entropy_C_w\n",
    "\n",
    "\n",
    "\n",
    "def get_feature_matrix(words,entropy_C,df,departments,word_col_name):\n",
    "    feature_matrix = pd.DataFrame(index=words,columns=['IG'],dtype='float')\n",
    "    count = 1\n",
    "    for w in words:\n",
    "        if count % 100 == 0:\n",
    "            print('进度:'+str(count))\n",
    "        feature_matrix.loc[w] = IG(w,entropy_C,df,departments,word_col_name)\n",
    "        count += 1\n",
    "    feature_matrix.sort_values('IG',ascending=False,inplace=True)\n",
    "    return feature_matrix"
   ]
  },
  {
   "cell_type": "code",
   "execution_count": 35,
   "metadata": {},
   "outputs": [],
   "source": [
    "entropy_C = entropy(get_department_prob(df_ori))"
   ]
  },
  {
   "cell_type": "code",
   "execution_count": 36,
   "metadata": {},
   "outputs": [
    {
     "data": {
      "text/plain": [
       "3.2377408948578252"
      ]
     },
     "execution_count": 36,
     "metadata": {},
     "output_type": "execute_result"
    }
   ],
   "source": [
    "entropy_C"
   ]
  },
  {
   "cell_type": "code",
   "execution_count": 38,
   "metadata": {},
   "outputs": [],
   "source": [
    "departments = get_departments(df_ori)"
   ]
  },
  {
   "cell_type": "code",
   "execution_count": 46,
   "metadata": {},
   "outputs": [
    {
     "data": {
      "text/plain": [
       "0.0012156303873722685"
      ]
     },
     "execution_count": 46,
     "metadata": {},
     "output_type": "execute_result"
    }
   ],
   "source": [
    "IG('L',entropy_C,df_ori,departments,'术前诊断_分词')"
   ]
  },
  {
   "cell_type": "code",
   "execution_count": 48,
   "metadata": {},
   "outputs": [
    {
     "name": "stdout",
     "output_type": "stream",
     "text": [
      "获得单词:1690\n"
     ]
    }
   ],
   "source": [
    "word_diagnose = word_dictionary(df_ori,'术前诊断_分词')"
   ]
  },
  {
   "cell_type": "code",
   "execution_count": 51,
   "metadata": {},
   "outputs": [
    {
     "name": "stdout",
     "output_type": "stream",
     "text": [
      "进度:100\n",
      "进度:200\n",
      "进度:300\n",
      "进度:400\n",
      "进度:500\n",
      "进度:600\n",
      "进度:700\n",
      "进度:800\n",
      "进度:900\n",
      "进度:1000\n",
      "进度:1100\n",
      "进度:1200\n",
      "进度:1300\n",
      "进度:1400\n",
      "进度:1500\n",
      "进度:1600\n"
     ]
    }
   ],
   "source": [
    "ig_feature_matrix_diagnose = get_feature_matrix(word_diagnose,entropy_C,df_ori,departments,'术前诊断_分词')"
   ]
  },
  {
   "cell_type": "code",
   "execution_count": 52,
   "metadata": {},
   "outputs": [
    {
     "data": {
      "text/html": [
       "<div>\n",
       "<style scoped>\n",
       "    .dataframe tbody tr th:only-of-type {\n",
       "        vertical-align: middle;\n",
       "    }\n",
       "\n",
       "    .dataframe tbody tr th {\n",
       "        vertical-align: top;\n",
       "    }\n",
       "\n",
       "    .dataframe thead th {\n",
       "        text-align: right;\n",
       "    }\n",
       "</style>\n",
       "<table border=\"1\" class=\"dataframe\">\n",
       "  <thead>\n",
       "    <tr style=\"text-align: right;\">\n",
       "      <th></th>\n",
       "      <th>IG</th>\n",
       "    </tr>\n",
       "  </thead>\n",
       "  <tbody>\n",
       "    <tr>\n",
       "      <th>宫</th>\n",
       "      <td>0.303034</td>\n",
       "    </tr>\n",
       "    <tr>\n",
       "      <th>椎</th>\n",
       "      <td>0.285789</td>\n",
       "    </tr>\n",
       "    <tr>\n",
       "      <th>腰</th>\n",
       "      <td>0.241416</td>\n",
       "    </tr>\n",
       "    <tr>\n",
       "      <th>心</th>\n",
       "      <td>0.240599</td>\n",
       "    </tr>\n",
       "    <tr>\n",
       "      <th>结石</th>\n",
       "      <td>0.240240</td>\n",
       "    </tr>\n",
       "  </tbody>\n",
       "</table>\n",
       "</div>"
      ],
      "text/plain": [
       "          IG\n",
       "宫   0.303034\n",
       "椎   0.285789\n",
       "腰   0.241416\n",
       "心   0.240599\n",
       "结石  0.240240"
      ]
     },
     "execution_count": 52,
     "metadata": {},
     "output_type": "execute_result"
    }
   ],
   "source": [
    "ig_feature_matrix_diagnose.head()"
   ]
  },
  {
   "cell_type": "code",
   "execution_count": 53,
   "metadata": {},
   "outputs": [
    {
     "name": "stdout",
     "output_type": "stream",
     "text": [
      "获得单词:1343\n"
     ]
    }
   ],
   "source": [
    "word_operation = word_dictionary(df_ori,'实施手术_分词')"
   ]
  },
  {
   "cell_type": "code",
   "execution_count": 54,
   "metadata": {},
   "outputs": [
    {
     "name": "stdout",
     "output_type": "stream",
     "text": [
      "进度:100\n",
      "进度:200\n",
      "进度:300\n",
      "进度:400\n",
      "进度:500\n",
      "进度:600\n",
      "进度:700\n",
      "进度:800\n",
      "进度:900\n",
      "进度:1000\n",
      "进度:1100\n",
      "进度:1200\n",
      "进度:1300\n"
     ]
    }
   ],
   "source": [
    "ig_feature_matrix_operation = get_feature_matrix(word_operation,entropy_C,df_ori,departments,'实施手术_分词')"
   ]
  },
  {
   "cell_type": "code",
   "execution_count": 55,
   "metadata": {},
   "outputs": [
    {
     "data": {
      "text/html": [
       "<div>\n",
       "<style scoped>\n",
       "    .dataframe tbody tr th:only-of-type {\n",
       "        vertical-align: middle;\n",
       "    }\n",
       "\n",
       "    .dataframe tbody tr th {\n",
       "        vertical-align: top;\n",
       "    }\n",
       "\n",
       "    .dataframe thead th {\n",
       "        text-align: right;\n",
       "    }\n",
       "</style>\n",
       "<table border=\"1\" class=\"dataframe\">\n",
       "  <thead>\n",
       "    <tr style=\"text-align: right;\">\n",
       "      <th></th>\n",
       "      <th>IG</th>\n",
       "    </tr>\n",
       "  </thead>\n",
       "  <tbody>\n",
       "    <tr>\n",
       "      <th>腔</th>\n",
       "      <td>0.330629</td>\n",
       "    </tr>\n",
       "    <tr>\n",
       "      <th>腹</th>\n",
       "      <td>0.328331</td>\n",
       "    </tr>\n",
       "    <tr>\n",
       "      <th>镜</th>\n",
       "      <td>0.320010</td>\n",
       "    </tr>\n",
       "    <tr>\n",
       "      <th>腹腔镜</th>\n",
       "      <td>0.289260</td>\n",
       "    </tr>\n",
       "    <tr>\n",
       "      <th>腹腔</th>\n",
       "      <td>0.286722</td>\n",
       "    </tr>\n",
       "    <tr>\n",
       "      <th>...</th>\n",
       "      <td>...</td>\n",
       "    </tr>\n",
       "    <tr>\n",
       "      <th>管髓</th>\n",
       "      <td>0.000597</td>\n",
       "    </tr>\n",
       "    <tr>\n",
       "      <th>PLIF术</th>\n",
       "      <td>0.000597</td>\n",
       "    </tr>\n",
       "    <tr>\n",
       "      <th>网植骨</th>\n",
       "      <td>0.000597</td>\n",
       "    </tr>\n",
       "    <tr>\n",
       "      <th>左先</th>\n",
       "      <td>0.000597</td>\n",
       "    </tr>\n",
       "    <tr>\n",
       "      <th>皮内</th>\n",
       "      <td>0.000597</td>\n",
       "    </tr>\n",
       "  </tbody>\n",
       "</table>\n",
       "<p>1343 rows × 1 columns</p>\n",
       "</div>"
      ],
      "text/plain": [
       "             IG\n",
       "腔      0.330629\n",
       "腹      0.328331\n",
       "镜      0.320010\n",
       "腹腔镜    0.289260\n",
       "腹腔     0.286722\n",
       "...         ...\n",
       "管髓     0.000597\n",
       "PLIF术  0.000597\n",
       "网植骨    0.000597\n",
       "左先     0.000597\n",
       "皮内     0.000597\n",
       "\n",
       "[1343 rows x 1 columns]"
      ]
     },
     "execution_count": 55,
     "metadata": {},
     "output_type": "execute_result"
    }
   ],
   "source": [
    "ig_feature_matrix_operation"
   ]
  },
  {
   "cell_type": "code",
   "execution_count": 56,
   "metadata": {},
   "outputs": [],
   "source": [
    "ig_feature_matrix_diagnose.to_excel('./feature_matrix/ig_feature_diagnose.xlsx')"
   ]
  },
  {
   "cell_type": "code",
   "execution_count": 57,
   "metadata": {},
   "outputs": [],
   "source": [
    "ig_feature_matrix_operation.to_excel('./feature_matrix/ig_feature_operation.xlsx')"
   ]
  },
  {
   "cell_type": "code",
   "execution_count": null,
   "metadata": {},
   "outputs": [],
   "source": []
  }
 ],
 "metadata": {
  "kernelspec": {
   "display_name": "Python [conda env:dataAnalysis]",
   "language": "python",
   "name": "conda-env-dataAnalysis-py"
  },
  "language_info": {
   "codemirror_mode": {
    "name": "ipython",
    "version": 3
   },
   "file_extension": ".py",
   "mimetype": "text/x-python",
   "name": "python",
   "nbconvert_exporter": "python",
   "pygments_lexer": "ipython3",
   "version": "3.7.4"
  }
 },
 "nbformat": 4,
 "nbformat_minor": 2
}
